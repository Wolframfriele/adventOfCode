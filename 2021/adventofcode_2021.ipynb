{
 "cells": [
  {
   "cell_type": "markdown",
   "metadata": {},
   "source": [
    "# 2021 Advent of Code\n",
    "\n",
    "I decided to combine all code for this year in one Jupyter notebook. To keep things clean custom functions are imported from a separate file. I also want to improve my skills in object oriented programming, so this will be the focus for this year."
   ]
  },
  {
   "cell_type": "code",
   "execution_count": 37,
   "metadata": {},
   "outputs": [
    {
     "name": "stdout",
     "output_type": "stream",
     "text": [
      "The autoreload extension is already loaded. To reload it, use:\n",
      "  %reload_ext autoreload\n"
     ]
    }
   ],
   "source": [
    "%load_ext autoreload\n",
    "%autoreload\n",
    "from tools.data import ReadAndSplit\n",
    "from tools.challenges import ReadDiagnostics"
   ]
  },
  {
   "cell_type": "markdown",
   "metadata": {},
   "source": [
    "## Day 1\n",
    "See if depth increases from one data point to the next."
   ]
  },
  {
   "cell_type": "code",
   "execution_count": 6,
   "metadata": {},
   "outputs": [
    {
     "data": {
      "text/plain": [
       "1681"
      ]
     },
     "execution_count": 6,
     "metadata": {},
     "output_type": "execute_result"
    }
   ],
   "source": [
    "# Part 1\n",
    "sea_depth = ReadAndSplit(\"input_data/day_1_p1.py\")\n",
    "sea_depth.split_break(numeric_data=True)\n",
    "\n",
    "checker = sea_depth[0]\n",
    "counter = 0\n",
    "for i in sea_depth:\n",
    "    if i > checker:\n",
    "        counter += 1\n",
    "        \n",
    "    checker = i\n",
    "\n",
    "counter"
   ]
  },
  {
   "cell_type": "code",
   "execution_count": 7,
   "metadata": {},
   "outputs": [
    {
     "data": {
      "text/plain": [
       "1704"
      ]
     },
     "execution_count": 7,
     "metadata": {},
     "output_type": "execute_result"
    }
   ],
   "source": [
    "# Part 2\n",
    "checker = sea_depth[0] + sea_depth[1] + sea_depth[2]\n",
    "counter = 0\n",
    "for i, depth in enumerate(sea_depth):\n",
    "    try:\n",
    "        sliding_window = sea_depth[i] + sea_depth[(i+1)] + sea_depth[(i+2)]\n",
    "    except:\n",
    "        break\n",
    "    if sliding_window > checker:\n",
    "        counter += 1\n",
    "    \n",
    "    checker = sliding_window\n",
    "\n",
    "counter"
   ]
  },
  {
   "cell_type": "markdown",
   "metadata": {},
   "source": [
    "## Day 2\n",
    "\n",
    "Find the final position of the submarine, than multiply it."
   ]
  },
  {
   "cell_type": "code",
   "execution_count": 11,
   "metadata": {},
   "outputs": [
    {
     "data": {
      "text/plain": [
       "2039256"
      ]
     },
     "execution_count": 11,
     "metadata": {},
     "output_type": "execute_result"
    }
   ],
   "source": [
    "# Part 1\n",
    "sub_directions = ReadAndSplit(\"input_data/day_2_p1.py\")\n",
    "sub_directions.split_break()\n",
    "\n",
    "horizontal_position = 0\n",
    "depth_position = 0\n",
    "\n",
    "for input in sub_directions:\n",
    "    direction, amount = input.split(\" \")\n",
    "    amount = int(amount)\n",
    "    if direction == \"forward\":\n",
    "        horizontal_position += amount\n",
    "    elif direction == \"down\":\n",
    "        depth_position += amount\n",
    "    elif direction == \"up\":\n",
    "        depth_position -= amount\n",
    "\n",
    "horizontal_position * depth_position"
   ]
  },
  {
   "cell_type": "code",
   "execution_count": 14,
   "metadata": {},
   "outputs": [
    {
     "data": {
      "text/plain": [
       "1856459736"
      ]
     },
     "execution_count": 14,
     "metadata": {},
     "output_type": "execute_result"
    }
   ],
   "source": [
    "# Part 2\n",
    "horizontal_position = 0\n",
    "depth_position = 0\n",
    "aim = 0\n",
    "\n",
    "for input in sub_directions:\n",
    "    direction, amount = input.split(\" \")\n",
    "    amount = int(amount)\n",
    "    if direction == \"forward\":\n",
    "        horizontal_position += amount\n",
    "        depth_position += (aim * amount)\n",
    "    elif direction == \"down\":\n",
    "        aim += amount\n",
    "    elif direction == \"up\":\n",
    "        aim -= amount\n",
    "\n",
    "horizontal_position * depth_position"
   ]
  },
  {
   "cell_type": "markdown",
   "metadata": {},
   "source": [
    "# Day 3 find the most and least common bit\n",
    "Than multipply the total value together"
   ]
  },
  {
   "cell_type": "code",
   "execution_count": 38,
   "metadata": {},
   "outputs": [
    {
     "data": {
      "text/plain": [
       "3148794"
      ]
     },
     "execution_count": 38,
     "metadata": {},
     "output_type": "execute_result"
    }
   ],
   "source": [
    "# Part 1\n",
    "diag_report_read = ReadAndSplit(\"input_data/day_3_p1.py\")\n",
    "diag_report_read.split_break()\n",
    "\n",
    "diag_report = ReadDiagnostics(diag_report_read)\n",
    "diag_report.get_power_consumption()\n"
   ]
  }
 ],
 "metadata": {
  "interpreter": {
   "hash": "ecef82cfac32211b42e0ad31793324dcf4067566d8ec5da9ea8358b5fe5c0606"
  },
  "kernelspec": {
   "display_name": "Python 3.9.7 64-bit ('datascience': conda)",
   "language": "python",
   "name": "python3"
  },
  "language_info": {
   "codemirror_mode": {
    "name": "ipython",
    "version": 3
   },
   "file_extension": ".py",
   "mimetype": "text/x-python",
   "name": "python",
   "nbconvert_exporter": "python",
   "pygments_lexer": "ipython3",
   "version": "3.9.7"
  },
  "orig_nbformat": 4
 },
 "nbformat": 4,
 "nbformat_minor": 2
}
