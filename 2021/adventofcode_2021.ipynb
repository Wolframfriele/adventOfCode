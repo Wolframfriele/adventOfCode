{
 "cells": [
  {
   "cell_type": "markdown",
   "metadata": {},
   "source": [
    "# 2021 Advent of Code\n",
    "\n",
    "I decided to combine all code for this year in one Jupyter notebook. To keep things clean custom functions are imported from a separate file. I also want to improve my skills in object oriented programming, so this will be the focus for this year."
   ]
  },
  {
   "cell_type": "code",
   "execution_count": 4,
   "metadata": {},
   "outputs": [
    {
     "name": "stdout",
     "output_type": "stream",
     "text": [
      "The autoreload extension is already loaded. To reload it, use:\n",
      "  %reload_ext autoreload\n"
     ]
    }
   ],
   "source": [
    "%load_ext autoreload\n",
    "%autoreload\n",
    "from tools.data import ReadAndSplit"
   ]
  },
  {
   "cell_type": "markdown",
   "metadata": {},
   "source": [
    "## Day 1\n",
    "See if depth increases from one data point to the next."
   ]
  },
  {
   "cell_type": "code",
   "execution_count": 5,
   "metadata": {},
   "outputs": [
    {
     "data": {
      "text/plain": [
       "1681"
      ]
     },
     "execution_count": 5,
     "metadata": {},
     "output_type": "execute_result"
    }
   ],
   "source": [
    "# Part 1\n",
    "sea_depth = ReadAndSplit(\"input_data/day_1_p1.py\")\n",
    "sea_depth.split_break(numeric_data=True)\n",
    "\n",
    "checker = sea_depth[0]\n",
    "counter = 0\n",
    "for i in sea_depth:\n",
    "    if i > checker:\n",
    "        counter += 1\n",
    "        checker = i\n",
    "    else:\n",
    "        checker = i\n",
    "\n",
    "counter"
   ]
  },
  {
   "cell_type": "code",
   "execution_count": 18,
   "metadata": {},
   "outputs": [
    {
     "data": {
      "text/plain": [
       "1704"
      ]
     },
     "execution_count": 18,
     "metadata": {},
     "output_type": "execute_result"
    }
   ],
   "source": [
    "# Part 2\n",
    "checker = sea_depth[0] + sea_depth[1] + sea_depth[2]\n",
    "counter = 0\n",
    "for i, depth in enumerate(sea_depth):\n",
    "    try:\n",
    "        sliding_window = sea_depth[i] + sea_depth[(i+1)] + sea_depth[(i+2)]\n",
    "    except:\n",
    "        break\n",
    "    if sliding_window > checker:\n",
    "        counter += 1\n",
    "        checker = sliding_window\n",
    "    else:\n",
    "        checker = sliding_window\n",
    "\n",
    "counter"
   ]
  }
 ],
 "metadata": {
  "interpreter": {
   "hash": "ecef82cfac32211b42e0ad31793324dcf4067566d8ec5da9ea8358b5fe5c0606"
  },
  "kernelspec": {
   "display_name": "Python 3.9.7 64-bit ('datascience': conda)",
   "language": "python",
   "name": "python3"
  },
  "language_info": {
   "codemirror_mode": {
    "name": "ipython",
    "version": 3
   },
   "file_extension": ".py",
   "mimetype": "text/x-python",
   "name": "python",
   "nbconvert_exporter": "python",
   "pygments_lexer": "ipython3",
   "version": "3.9.7"
  },
  "orig_nbformat": 4
 },
 "nbformat": 4,
 "nbformat_minor": 2
}
