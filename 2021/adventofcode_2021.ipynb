{
 "cells": [
  {
   "cell_type": "markdown",
   "metadata": {},
   "source": [
    "# 2021 Advent of Code\n",
    "\n",
    "I decided to combine all code for this year in one Jupyter notebook. To keep things clean custom functions are imported from a separate file. I also want to improve my skills in object oriented programming, so this will be the focus for this year."
   ]
  },
  {
   "cell_type": "code",
   "execution_count": 1,
   "metadata": {},
   "outputs": [],
   "source": [
    "%load_ext autoreload\n",
    "%autoreload\n",
    "from tools.data import ReadAndSplit, ReadData\n",
    "from tools.challenges import ReadDiagnostics, Bingo, Lines, LantarnFishList, LantarnFish\n",
    "import numpy as np\n",
    "import seaborn as sns"
   ]
  },
  {
   "cell_type": "markdown",
   "metadata": {},
   "source": [
    "## Day 1\n",
    "See if depth increases from one data point to the next."
   ]
  },
  {
   "cell_type": "code",
   "execution_count": 2,
   "metadata": {},
   "outputs": [
    {
     "ename": "FileNotFoundError",
     "evalue": "[Errno 2] No such file or directory: 'input_data/day_1_p1.txt'",
     "output_type": "error",
     "traceback": [
      "\u001b[0;31m---------------------------------------------------------------------------\u001b[0m",
      "\u001b[0;31mFileNotFoundError\u001b[0m                         Traceback (most recent call last)",
      "\u001b[0;32m/tmp/ipykernel_516613/3968817505.py\u001b[0m in \u001b[0;36m<module>\u001b[0;34m\u001b[0m\n\u001b[1;32m      1\u001b[0m \u001b[0;31m# Part 1\u001b[0m\u001b[0;34m\u001b[0m\u001b[0;34m\u001b[0m\u001b[0m\n\u001b[0;32m----> 2\u001b[0;31m \u001b[0msea_depth\u001b[0m \u001b[0;34m=\u001b[0m \u001b[0mReadAndSplit\u001b[0m\u001b[0;34m(\u001b[0m\u001b[0;34m\"input_data/day_1_p1.txt\"\u001b[0m\u001b[0;34m)\u001b[0m\u001b[0;34m\u001b[0m\u001b[0;34m\u001b[0m\u001b[0m\n\u001b[0m\u001b[1;32m      3\u001b[0m \u001b[0msea_depth\u001b[0m\u001b[0;34m.\u001b[0m\u001b[0msplit_break\u001b[0m\u001b[0;34m(\u001b[0m\u001b[0mdata_type\u001b[0m\u001b[0;34m=\u001b[0m\u001b[0;34m\"int\"\u001b[0m\u001b[0;34m)\u001b[0m\u001b[0;34m\u001b[0m\u001b[0;34m\u001b[0m\u001b[0m\n\u001b[1;32m      4\u001b[0m \u001b[0;34m\u001b[0m\u001b[0m\n\u001b[1;32m      5\u001b[0m \u001b[0mchecker\u001b[0m \u001b[0;34m=\u001b[0m \u001b[0msea_depth\u001b[0m\u001b[0;34m[\u001b[0m\u001b[0;36m0\u001b[0m\u001b[0;34m]\u001b[0m\u001b[0;34m\u001b[0m\u001b[0;34m\u001b[0m\u001b[0m\n",
      "\u001b[0;32m~/code/adventOfCode/2021/tools/data.py\u001b[0m in \u001b[0;36m__init__\u001b[0;34m(self, data_path)\u001b[0m\n\u001b[1;32m      7\u001b[0m \u001b[0;34m\u001b[0m\u001b[0m\n\u001b[1;32m      8\u001b[0m     \u001b[0;32mdef\u001b[0m \u001b[0m__init__\u001b[0m\u001b[0;34m(\u001b[0m\u001b[0mself\u001b[0m\u001b[0;34m,\u001b[0m \u001b[0mdata_path\u001b[0m\u001b[0;34m)\u001b[0m\u001b[0;34m:\u001b[0m\u001b[0;34m\u001b[0m\u001b[0;34m\u001b[0m\u001b[0m\n\u001b[0;32m----> 9\u001b[0;31m         \u001b[0mdata_read\u001b[0m \u001b[0;34m=\u001b[0m \u001b[0mopen\u001b[0m\u001b[0;34m(\u001b[0m\u001b[0mdata_path\u001b[0m\u001b[0;34m,\u001b[0m \u001b[0;34m'r'\u001b[0m\u001b[0;34m)\u001b[0m\u001b[0;34m\u001b[0m\u001b[0;34m\u001b[0m\u001b[0m\n\u001b[0m\u001b[1;32m     10\u001b[0m         \u001b[0mself\u001b[0m\u001b[0;34m.\u001b[0m\u001b[0minput_data\u001b[0m \u001b[0;34m=\u001b[0m \u001b[0mdata_read\u001b[0m\u001b[0;34m.\u001b[0m\u001b[0mread\u001b[0m\u001b[0;34m(\u001b[0m\u001b[0;34m)\u001b[0m\u001b[0;34m\u001b[0m\u001b[0;34m\u001b[0m\u001b[0m\n\u001b[1;32m     11\u001b[0m         \u001b[0mdata_read\u001b[0m\u001b[0;34m.\u001b[0m\u001b[0mclose\u001b[0m\u001b[0;34m(\u001b[0m\u001b[0;34m)\u001b[0m\u001b[0;34m\u001b[0m\u001b[0;34m\u001b[0m\u001b[0m\n",
      "\u001b[0;31mFileNotFoundError\u001b[0m: [Errno 2] No such file or directory: 'input_data/day_1_p1.txt'"
     ]
    }
   ],
   "source": [
    "# Part 1\n",
    "sea_depth = ReadAndSplit(\"input_data/day_1_p1.txt\")\n",
    "sea_depth.split_break(data_type=\"int\")\n",
    "\n",
    "checker = sea_depth[0]\n",
    "counter = 0\n",
    "for i in sea_depth:\n",
    "    if i > checker:\n",
    "        counter += 1\n",
    "\n",
    "    checker = i\n",
    "\n",
    "counter"
   ]
  },
  {
   "cell_type": "code",
   "execution_count": null,
   "metadata": {},
   "outputs": [
    {
     "data": {
      "text/plain": [
       "1704"
      ]
     },
     "execution_count": 3,
     "metadata": {},
     "output_type": "execute_result"
    }
   ],
   "source": [
    "# Part 2\n",
    "checker = sea_depth[0] + sea_depth[1] + sea_depth[2]\n",
    "counter = 0\n",
    "for i, depth in enumerate(sea_depth):\n",
    "    try:\n",
    "        sliding_window = sea_depth[i] + sea_depth[(i+1)] + sea_depth[(i+2)]\n",
    "    except:\n",
    "        break\n",
    "    if sliding_window > checker:\n",
    "        counter += 1\n",
    "\n",
    "    checker = sliding_window\n",
    "\n",
    "counter"
   ]
  },
  {
   "cell_type": "markdown",
   "metadata": {},
   "source": [
    "## Day 2\n",
    "\n",
    "Find the final position of the submarine, than multiply it."
   ]
  },
  {
   "cell_type": "code",
   "execution_count": null,
   "metadata": {},
   "outputs": [
    {
     "data": {
      "text/plain": [
       "2039256"
      ]
     },
     "execution_count": 4,
     "metadata": {},
     "output_type": "execute_result"
    }
   ],
   "source": [
    "# Part 1\n",
    "sub_directions = ReadAndSplit(\"input_data/day_2_p1.txt\")\n",
    "sub_directions.split_break()\n",
    "\n",
    "horizontal_position = 0\n",
    "depth_position = 0\n",
    "\n",
    "for input in sub_directions:\n",
    "    direction, amount = input.split(\" \")\n",
    "    amount = int(amount)\n",
    "    if direction == \"forward\":\n",
    "        horizontal_position += amount\n",
    "    elif direction == \"down\":\n",
    "        depth_position += amount\n",
    "    elif direction == \"up\":\n",
    "        depth_position -= amount\n",
    "\n",
    "horizontal_position * depth_position"
   ]
  },
  {
   "cell_type": "code",
   "execution_count": null,
   "metadata": {},
   "outputs": [
    {
     "data": {
      "text/plain": [
       "0"
      ]
     },
     "execution_count": 5,
     "metadata": {},
     "output_type": "execute_result"
    }
   ],
   "source": [
    "# Part 2\n",
    "horizontal_position = 0\n",
    "depth_position = 0\n",
    "aim = 0\n",
    "\n",
    "for input in sub_directions:\n",
    "    direction, amount = input.split(\" \")\n",
    "    amount = int(amount)\n",
    "    if direction == \"forward\":\n",
    "        horizontal_position += amount\n",
    "    elif direction == \"up\":\n",
    "        aim -= amount\n",
    "\n",
    "horizontal_position * depth_position"
   ]
  },
  {
   "cell_type": "markdown",
   "metadata": {},
   "source": [
    "# Day 3 find the most and least common bit\n",
    "Than multipply the total value together"
   ]
  },
  {
   "cell_type": "code",
   "execution_count": null,
   "metadata": {},
   "outputs": [
    {
     "data": {
      "text/plain": [
       "3148794"
      ]
     },
     "execution_count": 6,
     "metadata": {},
     "output_type": "execute_result"
    }
   ],
   "source": [
    "# Part 1\n",
    "diag_report_read = ReadAndSplit(\"input_data/day_3_p1.txt\")\n",
    "diag_report_read.split_break()\n",
    "\n",
    "diag_report = ReadDiagnostics(diag_report_read)\n",
    "diag_report.get_power_consumption()\n"
   ]
  },
  {
   "cell_type": "code",
   "execution_count": null,
   "metadata": {},
   "outputs": [
    {
     "data": {
      "text/plain": [
       "2795310"
      ]
     },
     "execution_count": 7,
     "metadata": {},
     "output_type": "execute_result"
    }
   ],
   "source": [
    "# Part 2\n",
    "diag_report.get_life_support_rating()"
   ]
  },
  {
   "cell_type": "markdown",
   "metadata": {},
   "source": [
    "## Day 4\n",
    "\n",
    "Play bingo with a squid"
   ]
  },
  {
   "cell_type": "code",
   "execution_count": null,
   "metadata": {},
   "outputs": [
    {
     "data": {
      "text/plain": [
       "(31, [44], 4495)"
      ]
     },
     "execution_count": 8,
     "metadata": {},
     "output_type": "execute_result"
    }
   ],
   "source": [
    "bingo_input = ReadAndSplit(\"input_data/day_4_p1.txt\")\n",
    "bingo_input.split_double_break()\n",
    "bingo_input.split_break()\n",
    "\n",
    "bingo_numbers = bingo_input[0][0]\n",
    "bingo_numbers = bingo_numbers.split(\",\")\n",
    "temp = []\n",
    "for i in bingo_numbers:\n",
    "    temp.append(int(i))\n",
    "bingo_numbers = temp\n",
    "\n",
    "bingo_cards = []\n",
    "for card in bingo_input[1:]:\n",
    "    single_card = []\n",
    "    for line in card:\n",
    "        split_line = line.split(\" \")\n",
    "        temp = []\n",
    "        for entry in split_line:\n",
    "            if entry != \"\":\n",
    "                temp.append(int(entry))\n",
    "        single_card.append(temp)\n",
    "    bingo_cards.append(single_card)\n",
    "\n",
    "bingo = Bingo(bingo_numbers, bingo_cards)\n",
    "bingo.last_winning_board()\n"
   ]
  },
  {
   "cell_type": "code",
   "execution_count": null,
   "metadata": {},
   "outputs": [
    {
     "name": "stdout",
     "output_type": "stream",
     "text": [
      "['test', 'test', 'testtest', 'test']\n"
     ]
    }
   ],
   "source": [
    "test_string = \"test test  testtest   test\"\n",
    "print(test_string.split())"
   ]
  },
  {
   "cell_type": "markdown",
   "metadata": {},
   "source": [
    "## Day 5\n",
    "Find overlapping lines"
   ]
  },
  {
   "cell_type": "code",
   "execution_count": null,
   "metadata": {},
   "outputs": [
    {
     "data": {
      "text/plain": [
       "16716"
      ]
     },
     "execution_count": 9,
     "metadata": {},
     "output_type": "execute_result"
    }
   ],
   "source": [
    "line_coord = ReadAndSplit(\"input_data/day_5_p1.txt\")\n",
    "line_coord.split_break()\n",
    "line_coord.split_on(\" -> \")\n",
    "line_coord.split_on(\",\", data_type=\"int\")\n",
    "\n",
    "line_map = Lines(line_coord)\n",
    "line_map.find_danger_zone(no_diagonal=False)\n",
    "# line_map"
   ]
  },
  {
   "cell_type": "markdown",
   "metadata": {},
   "source": [
    "## Day 6\n",
    "Simulate lantarn fish"
   ]
  },
  {
   "cell_type": "code",
   "execution_count": null,
   "metadata": {},
   "outputs": [
    {
     "name": "stdout",
     "output_type": "stream",
     "text": [
      "5.525232464872438*1.0910958312492127**x\n"
     ]
    },
    {
     "data": {
      "text/plain": [
       "5907"
      ]
     },
     "execution_count": 19,
     "metadata": {},
     "output_type": "execute_result"
    },
    {
     "data": {
      "image/png": "[encoded data removed]",
      "text/plain": [
       "<Figure size 864x432 with 1 Axes>"
      ]
     },
     "metadata": {},
     "output_type": "display_data"
    }
   ],
   "source": [
    "# lantern_start_pop = ReadAndSplit(\"input_data/day_6_p1_t.txt\")\n",
    "# lantern_start_pop.split_on(\",\", data_type=\"int\")\n",
    "\n",
    "# lantarn_sim = LantarnFishList(lantern_start_pop)\n",
    "# X, y = lantarn_sim.simulate_fish(128, save_results=True)\n",
    "\n",
    "# sns.set(rc={\"figure.figsize\":(12, 6)})\n",
    "# sns.lineplot(x=X, y=np.log(y))\n",
    "\n",
    "# fit = np.polyfit(X, np.log(y), 1)\n",
    "\n",
    "# def much_fish(fit, x):\n",
    "#     first_term = np.e ** fit[1]\n",
    "#     second_term = np.e ** fit[0]\n",
    "#     print(f\"{first_term}*{second_term}**x\")\n",
    "#     return int(first_term * (second_term**x))\n",
    "    \n",
    "# much_fish(fit, 80)"
   ]
  },
  {
   "cell_type": "code",
   "execution_count": null,
   "metadata": {},
   "outputs": [
    {
     "data": {
      "text/plain": [
       "1767323539209"
      ]
     },
     "execution_count": 18,
     "metadata": {},
     "output_type": "execute_result"
    }
   ],
   "source": [
    "lantern_start_pop = ReadAndSplit(\"input_data/day_6_p1.txt\")\n",
    "lantern_start_pop.split_on(\",\", data_type=\"int\")\n",
    "\n",
    "lantarn_sim = LantarnFish(lantern_start_pop)\n",
    "lantarn_sim.simulate_fish(256)"
   ]
  },
  {
   "cell_type": "markdown",
   "metadata": {},
   "source": [
    "## Day 7\n"
   ]
  },
  {
   "cell_type": "code",
   "execution_count": 14,
   "metadata": {},
   "outputs": [
    {
     "data": {
      "text/plain": [
       "<AxesSubplot:>"
      ]
     },
     "execution_count": 14,
     "metadata": {},
     "output_type": "execute_result"
    },
    {
     "data": {
      "image/png": "[encoded data removed]",
      "text/plain": [
       "<Figure size 432x288 with 1 Axes>"
      ]
     },
     "metadata": {
      "needs_background": "light"
     },
     "output_type": "display_data"
    }
   ],
   "source": [
    "data = ReadData(\"data/7.txt\", lines=False, read_int=False)\n",
    "data.special_split(\",\")\n",
    "horizontal_position = [int(i) for i in data]\n",
    "y = [i for i in range(len(horizontal_position))]\n",
    "\n",
    "sns.set(rc={\"figure.figsize\":(12, 6)})\n",
    "sns.scatterplot(x=horizontal_position, y=y)"
   ]
  }
 ],
 "metadata": {
  "interpreter": {
   "hash": "ecef82cfac32211b42e0ad31793324dcf4067566d8ec5da9ea8358b5fe5c0606"
  },
  "kernelspec": {
   "display_name": "Python 3.9.7 64-bit ('datascience': conda)",
   "language": "python",
   "name": "python3"
  },
  "language_info": {
   "codemirror_mode": {
    "name": "ipython",
    "version": 3
   },
   "file_extension": ".py",
   "mimetype": "text/x-python",
   "name": "python",
   "nbconvert_exporter": "python",
   "pygments_lexer": "ipython3",
   "version": "3.9.7"
  },
  "orig_nbformat": 4
 },
 "nbformat": 4,
 "nbformat_minor": 2
}
