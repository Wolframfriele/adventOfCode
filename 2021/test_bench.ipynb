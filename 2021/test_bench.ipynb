{
 "cells": [
  {
   "cell_type": "markdown",
   "metadata": {},
   "source": [
    "# 2021 Advent of Code Testbench\n",
    "\n",
    "This is a quick little notebook to be able to test simple things. Cause I enjoy working in jupyter notebook for quick tests."
   ]
  },
  {
   "cell_type": "code",
   "execution_count": 2,
   "metadata": {},
   "outputs": [],
   "source": [
    "%load_ext autoreload\n",
    "%autoreload\n",
    "from tools.data import ReadAndSplit, ReadData\n",
    "from tools.challenges import ReadDiagnostics, Bingo, Lines, LantarnFishList, LantarnFish\n",
    "import numpy as np\n",
    "import seaborn as sns"
   ]
  },
  {
   "cell_type": "code",
   "execution_count": null,
   "metadata": {},
   "outputs": [],
   "source": []
  }
 ],
 "metadata": {
  "interpreter": {
   "hash": "ecef82cfac32211b42e0ad31793324dcf4067566d8ec5da9ea8358b5fe5c0606"
  },
  "kernelspec": {
   "display_name": "Python 3.9.7 64-bit ('datascience': conda)",
   "language": "python",
   "name": "python3"
  },
  "language_info": {
   "codemirror_mode": {
    "name": "ipython",
    "version": 3
   },
   "file_extension": ".py",
   "mimetype": "text/x-python",
   "name": "python",
   "nbconvert_exporter": "python",
   "pygments_lexer": "ipython3",
   "version": "3.9.7"
  },
  "orig_nbformat": 4
 },
 "nbformat": 4,
 "nbformat_minor": 2
}
